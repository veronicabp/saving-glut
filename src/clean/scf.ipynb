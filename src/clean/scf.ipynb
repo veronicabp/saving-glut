{
 "cells": [
  {
   "cell_type": "code",
   "execution_count": 1,
   "id": "1592edd0",
   "metadata": {},
   "outputs": [],
   "source": [
    "import sys\n",
    "sys.path.append('..')\n",
    "from utils import * \n",
    "from statsmodels.stats.weightstats import DescrStatsW\n",
    "import seaborn as sns\n",
    "from fof_savings import *"
   ]
  },
  {
   "cell_type": "code",
   "execution_count": null,
   "id": "bcf2545e",
   "metadata": {},
   "outputs": [],
   "source": [
    "fof = get_fof()\n",
    "subcategory_shares = get_subcategory_shares(fof)\n",
    "subcategory_shares = subcategory_shares[subcategory_shares.Year.isin([1983,1989])]"
   ]
  },
  {
   "cell_type": "code",
   "execution_count": 2,
   "id": "9ce1ccea",
   "metadata": {},
   "outputs": [],
   "source": [
    "pd.options.display.float_format = '{:,.3f}'.format"
   ]
  },
  {
   "cell_type": "code",
   "execution_count": 3,
   "id": "2e63ae0c",
   "metadata": {},
   "outputs": [],
   "source": [
    "def weighted_quantile(values, weights, quantiles):\n",
    "    sorter = np.argsort(values)\n",
    "    values = values[sorter]\n",
    "    weights = weights[sorter]\n",
    "    weighted_quantiles = np.cumsum(weights) - 0.5 * weights\n",
    "    weighted_quantiles /= np.sum(weights)\n",
    "    \n",
    "    weighted_quantiles = np.interp(quantiles, weighted_quantiles, values)\n",
    "    weighted_quantiles[-1] = values.max()\n",
    "    return weighted_quantiles\n",
    "\n",
    "def assign_percentile_group(row, quantile_values, quantile_labels, col):\n",
    "    return quantile_labels[np.searchsorted(quantile_values, row[col], side='left')]"
   ]
  },
  {
   "cell_type": "code",
   "execution_count": null,
   "id": "c3f5a910",
   "metadata": {},
   "outputs": [],
   "source": []
  },
  {
   "cell_type": "code",
   "execution_count": 437,
   "id": "fc66d660",
   "metadata": {},
   "outputs": [],
   "source": [
    "def annualize_transitions(matrix, years=5):\n",
    "    # This is over 6 years--convert to annual basis\n",
    "    # Step 1: Diagonalize Gamma\n",
    "    eigenvalues, V = np.linalg.eig(matrix)\n",
    "    D = np.diag(eigenvalues)\n",
    "\n",
    "    # Step 2: Compute sixth roots of the eigenvalues\n",
    "    D_root = np.diag(np.power(eigenvalues, 1/years))\n",
    "\n",
    "    # Step 3: Recompose Q using V, D_root, and V^-1\n",
    "    V_inv = np.linalg.inv(V)\n",
    "    Lambda = V @ D_root @ V_inv\n",
    "    \n",
    "    # Step 4: Deal with negatives -- set to 0 and re-normalize\n",
    "    Lambda[Lambda < 0] = 0\n",
    "    Lambda/Lambda.sum(axis=1, keepdims=True)\n",
    "    \n",
    "    return Lambda"
   ]
  },
  {
   "cell_type": "code",
   "execution_count": 374,
   "id": "b46efe07",
   "metadata": {},
   "outputs": [],
   "source": [
    "def get_transition_matrix(df, quantiles, quantile_labels, col1='networth1983', col2='networth1989', weight_var='weight'):\n",
    "    for col in [col1, col2]:\n",
    "        df = get_percentile_group(df, col=col, weight=weight_var, tag=f'_{col}', quantiles=quantiles, quantile_labels=quantile_labels)\n",
    "    \n",
    "    # Get transition probabilities\n",
    "    transition_matrix = pd.DataFrame(\n",
    "        0, index=quantile_labels, columns=quantile_labels, dtype=float\n",
    "    )\n",
    "\n",
    "    # Count transitions\n",
    "    for _, row in df.iterrows():\n",
    "        from_percentile = row[f'percentile_{col1}']\n",
    "        to_percentile = row[f'percentile_{col2}']\n",
    "        transition_matrix.loc[from_percentile, to_percentile] += row[weight_var]\n",
    "\n",
    "    # Normalize to probabilities\n",
    "    transition_matrix = transition_matrix.div(transition_matrix.sum(axis=1), axis=0).fillna(0)\n",
    "    return transition_matrix"
   ]
  },
  {
   "cell_type": "code",
   "execution_count": 375,
   "id": "4a51417f",
   "metadata": {},
   "outputs": [],
   "source": [
    "def get_percentile_group(df, col='networth1983', weight='weight', tag='', quantiles=np.linspace(1, 100, 100)/100, quantile_labels=np.arange(0,100)):\n",
    "    quantile_values = weighted_quantile(df[col], df[weight], quantiles)\n",
    "    df[f'percentile{tag}'] = df.apply(assign_percentile_group, axis=1, quantile_values=quantile_values, quantile_labels=quantile_labels, col=col)\n",
    "    return df"
   ]
  },
  {
   "cell_type": "code",
   "execution_count": 367,
   "id": "dd9b813c",
   "metadata": {},
   "outputs": [],
   "source": [
    "def load_scf(scf_dict, filename='rscfp2009panel.dta', year1=2007, year2=2009, id_vars=['id2009','case_id'], id_dict={'YY1':'id2009', 'Y1':'case_id'}, weight_var='WGT09'):\n",
    "    scf = load_data(filename, folder=os.path.join('raw','scf',f'scf_{year1}-{year2}_panel'))\n",
    "    \n",
    "    if year1==1983 and year2==1989:\n",
    "        # Manual correction: distribute other housing wealth to account for share owned\n",
    "        for n in range(7,10):\n",
    "            scf[f'x1{n}05'] =  scf[f'x1{n}05']/10000\n",
    "            scf[f'x1{n}06'] = scf[f'x1{n}06'] * scf[f'x1{n}05']\n",
    "        \n",
    "    scf = scf.rename(columns=id_dict)\n",
    "    scf = scf.rename(columns={weight_var:'weight'})\n",
    "    scf = pd.melt(scf, id_vars=id_vars+['weight'], var_name='SCF code')\n",
    "\n",
    "    # Merge in metadata about SCF and variables we want to keep\n",
    "    scf = scf.merge(scf_dict, on=['SCF code'], how='right')\n",
    "    \n",
    "    # Deflate to 2016\n",
    "    cpi = load_data('CPI_PCE.dta', folder=os.path.join('raw','cpi'))\n",
    "    scf = scf.merge(cpi, on='year')\n",
    "    scf['rvalue'] = scf['value']/scf['CPI']\n",
    "    \n",
    "    return scf"
   ]
  },
  {
   "cell_type": "code",
   "execution_count": 369,
   "id": "9eac8a8b",
   "metadata": {},
   "outputs": [],
   "source": [
    "def clean_scf_panel(filename='rscfp2009panel.dta', year1=2007, year2=2009, id_vars=['id2009','case_id'], id_dict={'YY1':'id2009', 'Y1':'case_id'}, weight_var='WGT09', inc_vars=['INCOME07','INCOME09']):\n",
    "    ##################\n",
    "    # Load metadata\n",
    "    ##################\n",
    "    scf_dict = load_data(f'scf_dictionary_{year1}-{year2}.csv', folder=os.path.join('raw','personal'))\n",
    "\n",
    "    # Expand dictionary\n",
    "    dicts = []\n",
    "    for year in [year1, year2]:\n",
    "        d = scf_dict[[f'SCF code {year}', 'Description', 'Asset', 'Subcategory', 'Inflation Category']].set_index(['Description', 'Asset', 'Subcategory', 'Inflation Category'])[f'SCF code {year}'].str.split(';', expand=True).stack().reset_index().rename(columns={0:'SCF code'}).drop(columns=['level_4'])\n",
    "        d['year'] = year\n",
    "        dicts.append(d)\n",
    "\n",
    "    scf_dict = pd.concat(dicts)\n",
    "    scf_dict[f'SCF code'] = scf_dict[f'SCF code'].str.replace(' ','')\n",
    "\n",
    "    ####################################\n",
    "    # Load asset inflation\n",
    "    ####################################\n",
    "    infl = load_data('fof_savings_by_asset.csv')[['Year','Inflation Category','Percentile','Asset Inflation Rate']].drop_duplicates()\n",
    "\n",
    "    # Get weighted average across percentiles\n",
    "    infl['Asset Inflation Rate'] = infl['Asset Inflation Rate'] * infl['Percentile']/100\n",
    "    infl = infl.groupby(['Year','Inflation Category'])['Asset Inflation Rate'].sum().reset_index()\n",
    "\n",
    "    infl = infl[(infl.Year>year1)&(infl.Year<=year2)]\n",
    "    infl['pi'] = infl['Asset Inflation Rate'] + 1\n",
    "    infl['aggpi'] = infl.groupby('Inflation Category')['pi'].cumprod()\n",
    "    infl.loc[infl.Year==year2, 'aggpi'] = 1 # Want cumulative inflation to be lagged\n",
    "\n",
    "    infl = infl.groupby('Inflation Category').agg({'aggpi': 'sum', 'pi': lambda x: x.prod()}).reset_index()\n",
    "\n",
    "    ####################################\n",
    "    # Merge and collapse to get saving\n",
    "    ####################################\n",
    "    scf = load_scf(scf_dict, filename=filename, year1=year1, year2=year2, id_vars=id_vars, id_dict=id_dict, weight_var=weight_var)\n",
    "\n",
    "    # Set missing as 0\n",
    "    scf.loc[scf.value<0, 'value'] = 0\n",
    "\n",
    "    # Merge in subcategory shares\n",
    "    df = scf.merge(subcategory_shares, left_on=['Description', 'Subcategory','Asset','year'], right_on=['Description', 'Subcategory','Is Asset','Year'], how='left')\n",
    "    df.loc[df['Subcategory Share'].isna(), 'Subcategory Share'] = 1\n",
    "\n",
    "    # Collapse by asset class\n",
    "    df['name'] = ''\n",
    "    df.loc[df.Subcategory.isna(), 'name'] = df['Description']\n",
    "    df.loc[~df.Subcategory.isna(), 'name'] = df['Description'] + '; ' + df['Subcategory']\n",
    "\n",
    "    timeinvariants = df[id_vars+['weight','name','Asset','Inflation Category','Subcategory Share']].drop_duplicates()\n",
    "    df = df.groupby(['case_id','name', 'year'])['value'].sum().reset_index()\n",
    "\n",
    "    # Expand to include all combinations\n",
    "    index = pd.MultiIndex.from_product([df['case_id'].unique(), df['name'].unique(), df['year'].unique()], names=['case_id', 'name', 'year'])\n",
    "    df = df.set_index(['case_id', 'name', 'year'])['value'].reindex(index, fill_value=0).reset_index()\n",
    "\n",
    "    df = df.merge(timeinvariants, on=['case_id', 'name'])\n",
    "\n",
    "    # Merge in asset inflation\n",
    "    df = df.merge(infl, on='Inflation Category')\n",
    "\n",
    "    # Make liabilities negative\n",
    "    df.loc[df.Asset==0, 'value'] *= -1\n",
    "\n",
    "    # Scale by subcategory shares\n",
    "    df['value'] = df['value'] * df['Subcategory Share']\n",
    "\n",
    "    # Get average annual saving\n",
    "    df = df.sort_values(by=['case_id','name', 'year'])\n",
    "    df['L_value'] = df.groupby(['case_id','name'])['value'].shift()\n",
    "\n",
    "    df['saving'] = (df['value'] - df['L_value']*df['pi'])/df['aggpi'] # Annual saving\n",
    "\n",
    "    # Collapse to get total wealth by person by year\n",
    "    df = df.groupby(id_vars+['weight','year'])[['saving', 'value']].sum().reset_index().rename(columns={'value':'networth'})\n",
    "    df = df.pivot_table(values=['saving', 'networth'], index=id_vars+['weight'], columns='year').reset_index()\n",
    "    df.columns = [''.join(map(str, col)).strip() for col in df.columns.values]\n",
    "    df = df.drop(columns=f'saving{year1}')\n",
    "\n",
    "    ###################\n",
    "    # Merge in income\n",
    "    ###################\n",
    "    inc_dict = pd.DataFrame({\n",
    "        'Description':['income', 'income'],\n",
    "        'SCF code':inc_vars,\n",
    "        'year':[year1, year2]\n",
    "    })\n",
    "\n",
    "    inc = load_scf(inc_dict, filename=filename, year1=year1, year2=year2, id_vars=id_vars, id_dict=id_dict, weight_var=weight_var)[['case_id','year','value','rvalue']].rename(columns={'value':'income','rvalue':'rincome'})\n",
    "    inc = inc.pivot_table(values=['income','rincome'], index='case_id', columns='year').reset_index()\n",
    "    inc.columns = [''.join(map(str, col)).strip() for col in inc.columns.values]\n",
    "\n",
    "    inc['rincav'] = (inc[f'rincome{year1}'] + inc[f'rincome{year2}'])/2\n",
    "    df = df.merge(inc, on='case_id')\n",
    "    df['savrate'] = df[f'saving{year2}']/df['rincav']\n",
    "    df.loc[df.rincav==0, 'savrate'] = np.nan\n",
    "    \n",
    "\n",
    "\n",
    "    ###################\n",
    "    # Get percentiles\n",
    "    ###################\n",
    "    for col in [f'networth{year1}', f'networth{year2}', f'rincome{year1}', f'rincome{year2}', 'rincav']:\n",
    "        df = get_percentile_group(df, col=col, weight='weight', tag=f'_{col}')\n",
    "\n",
    "    ###################\n",
    "    # Save\n",
    "    ###################\n",
    "    save_data(df, f'scf_{year1}t{year2}_panel.csv')"
   ]
  },
  {
   "cell_type": "code",
   "execution_count": null,
   "id": "ec3465a7",
   "metadata": {},
   "outputs": [],
   "source": [
    "def get_change_in_household_comp(filename):\n",
    "\n",
    "    if filename=='scf89p.dta':\n",
    "        year1,year2=1983,1989\n",
    "        scf = load_data(filename, folder=os.path.join('raw','scf',f'scf_{year1}-{year2}_panel'))\n"
   ]
  },
  {
   "cell_type": "code",
   "execution_count": 503,
   "id": "dfd9d6a7",
   "metadata": {},
   "outputs": [],
   "source": [
    "year1,year2 = 1983,1989\n",
    "scf = load_data(filename, folder=os.path.join('raw','scf',f'scf_{year1}-{year2}_panel'))\n",
    "scf = scf[(scf.x26201==5)&(scf.x26205==5)][['x1', 'x26201']].rename(columns={'x1':'case_id'})"
   ]
  },
  {
   "cell_type": "code",
   "execution_count": 501,
   "id": "c33d0863",
   "metadata": {},
   "outputs": [],
   "source": [
    "# m = {'x26201':'married', 'x26205':'divorced'}\n",
    "# scf = scf.rename(columns=id_dict | m)[['case_id'] + list(m.values())]\n",
    "\n",
    "# scf['married'] = scf.apply(lambda row: 2 if row['married'] in [1,3] else 1, axis=1)\n",
    "# scf['divorced'] = scf.apply(lambda row: 0.5 if row['divorced'] in [1,3] else 1, axis=1)\n",
    "# # scf['scale_factor'] = scf['married']*scf['divorced']\n",
    "# # scf['composition_change'] = (scf['married']!=1)|(scf['divorced']!=1)\n"
   ]
  },
  {
   "cell_type": "code",
   "execution_count": 506,
   "id": "94850317",
   "metadata": {},
   "outputs": [],
   "source": [
    "scf = scf[(scf.x26201==5)&(scf.x26205==5)][['x1', 'x26201']].rename(columns={'x1':'case_id'})"
   ]
  },
  {
   "cell_type": "code",
   "execution_count": 507,
   "id": "7348389f",
   "metadata": {},
   "outputs": [
    {
     "data": {
      "text/html": [
       "<div>\n",
       "<style scoped>\n",
       "    .dataframe tbody tr th:only-of-type {\n",
       "        vertical-align: middle;\n",
       "    }\n",
       "\n",
       "    .dataframe tbody tr th {\n",
       "        vertical-align: top;\n",
       "    }\n",
       "\n",
       "    .dataframe thead th {\n",
       "        text-align: right;\n",
       "    }\n",
       "</style>\n",
       "<table border=\"1\" class=\"dataframe\">\n",
       "  <thead>\n",
       "    <tr style=\"text-align: right;\">\n",
       "      <th></th>\n",
       "      <th>case_id</th>\n",
       "      <th>x26201</th>\n",
       "    </tr>\n",
       "  </thead>\n",
       "  <tbody>\n",
       "    <tr>\n",
       "      <th>0</th>\n",
       "      <td>30011</td>\n",
       "      <td>5.000</td>\n",
       "    </tr>\n",
       "    <tr>\n",
       "      <th>1</th>\n",
       "      <td>30012</td>\n",
       "      <td>5.000</td>\n",
       "    </tr>\n",
       "    <tr>\n",
       "      <th>2</th>\n",
       "      <td>30013</td>\n",
       "      <td>5.000</td>\n",
       "    </tr>\n",
       "    <tr>\n",
       "      <th>9</th>\n",
       "      <td>30041</td>\n",
       "      <td>5.000</td>\n",
       "    </tr>\n",
       "    <tr>\n",
       "      <th>10</th>\n",
       "      <td>30042</td>\n",
       "      <td>5.000</td>\n",
       "    </tr>\n",
       "    <tr>\n",
       "      <th>...</th>\n",
       "      <td>...</td>\n",
       "      <td>...</td>\n",
       "    </tr>\n",
       "    <tr>\n",
       "      <th>4426</th>\n",
       "      <td>46572</td>\n",
       "      <td>5.000</td>\n",
       "    </tr>\n",
       "    <tr>\n",
       "      <th>4427</th>\n",
       "      <td>46573</td>\n",
       "      <td>5.000</td>\n",
       "    </tr>\n",
       "    <tr>\n",
       "      <th>4428</th>\n",
       "      <td>46581</td>\n",
       "      <td>5.000</td>\n",
       "    </tr>\n",
       "    <tr>\n",
       "      <th>4429</th>\n",
       "      <td>46582</td>\n",
       "      <td>5.000</td>\n",
       "    </tr>\n",
       "    <tr>\n",
       "      <th>4430</th>\n",
       "      <td>46583</td>\n",
       "      <td>5.000</td>\n",
       "    </tr>\n",
       "  </tbody>\n",
       "</table>\n",
       "<p>3201 rows × 2 columns</p>\n",
       "</div>"
      ],
      "text/plain": [
       "      case_id  x26201\n",
       "0       30011   5.000\n",
       "1       30012   5.000\n",
       "2       30013   5.000\n",
       "9       30041   5.000\n",
       "10      30042   5.000\n",
       "...       ...     ...\n",
       "4426    46572   5.000\n",
       "4427    46573   5.000\n",
       "4428    46581   5.000\n",
       "4429    46582   5.000\n",
       "4430    46583   5.000\n",
       "\n",
       "[3201 rows x 2 columns]"
      ]
     },
     "execution_count": 507,
     "metadata": {},
     "output_type": "execute_result"
    }
   ],
   "source": [
    "scf"
   ]
  },
  {
   "cell_type": "code",
   "execution_count": null,
   "id": "77cfe1e9",
   "metadata": {},
   "outputs": [],
   "source": []
  },
  {
   "cell_type": "code",
   "execution_count": null,
   "id": "48dbbfb1",
   "metadata": {},
   "outputs": [],
   "source": [
    "# filename='rscfp2009panel.dta'\n",
    "# year1=2007\n",
    "# year2=2009\n",
    "# id_vars=['id2009','case_id']\n",
    "# id_dict={'YY1':'id2009', 'Y1':'case_id'}\n",
    "# weight_var='WGT09'\n",
    "# inc_vars=['INCOME07','INCOME09']\n",
    "\n",
    "filename='scf89p.dta'\n",
    "year1=1983\n",
    "year2=1989\n",
    "id_vars=['id1989','id1983','case_id']\n",
    "id_dict={'x1':'case_id', 'xx1':'id1989', 'x40013':'id1983'}\n",
    "weight_var='wgt0195'\n",
    "inc_vars=['x50286','x5729']"
   ]
  },
  {
   "cell_type": "code",
   "execution_count": null,
   "id": "61e265c3",
   "metadata": {},
   "outputs": [],
   "source": []
  },
  {
   "cell_type": "code",
   "execution_count": 370,
   "id": "1a451843",
   "metadata": {},
   "outputs": [],
   "source": [
    "clean_scf_panel(filename='scf89p.dta', year1=1983, year2=1989, id_vars=['id1989','id1983','case_id'], id_dict={'x1':'case_id', 'xx1':'id1989', 'x40013':'id1983'}, weight_var='wgt0195',inc_vars=['x50286','x5729'])"
   ]
  },
  {
   "cell_type": "code",
   "execution_count": 371,
   "id": "aaa74cff",
   "metadata": {},
   "outputs": [],
   "source": [
    "clean_scf_panel(filename='rscfp2009panel.dta', year1=2007, year2=2009, id_vars=['id2009','case_id'], id_dict={'YY1':'id2009', 'Y1':'case_id'}, weight_var='WGT09', inc_vars=['INCOME07','INCOME09'])"
   ]
  },
  {
   "cell_type": "code",
   "execution_count": null,
   "id": "7d2a81f5",
   "metadata": {},
   "outputs": [],
   "source": []
  },
  {
   "cell_type": "code",
   "execution_count": null,
   "id": "e354026a",
   "metadata": {},
   "outputs": [],
   "source": []
  },
  {
   "cell_type": "code",
   "execution_count": null,
   "id": "d127894f",
   "metadata": {},
   "outputs": [],
   "source": []
  },
  {
   "cell_type": "code",
   "execution_count": 519,
   "id": "7bb9a25a",
   "metadata": {},
   "outputs": [],
   "source": [
    "year1,year2 = 1983,1989\n",
    "hhcomp = load_data(filename, folder=os.path.join('raw','scf',f'scf_{year1}-{year2}_panel'))\n",
    "hhcomp = hhcomp[(hhcomp.x26201==5)&(hhcomp.x26205==5)][['x1', 'x26201']].rename(columns={'x1':'case_id'})"
   ]
  },
  {
   "cell_type": "code",
   "execution_count": 528,
   "id": "9ff63e0a",
   "metadata": {},
   "outputs": [
    {
     "data": {
      "text/html": [
       "<div>\n",
       "<style scoped>\n",
       "    .dataframe tbody tr th:only-of-type {\n",
       "        vertical-align: middle;\n",
       "    }\n",
       "\n",
       "    .dataframe tbody tr th {\n",
       "        vertical-align: top;\n",
       "    }\n",
       "\n",
       "    .dataframe thead th {\n",
       "        text-align: right;\n",
       "    }\n",
       "</style>\n",
       "<table border=\"1\" class=\"dataframe\">\n",
       "  <thead>\n",
       "    <tr style=\"text-align: right;\">\n",
       "      <th></th>\n",
       "      <th>percentile</th>\n",
       "      <th>savrate</th>\n",
       "    </tr>\n",
       "  </thead>\n",
       "  <tbody>\n",
       "    <tr>\n",
       "      <th>0</th>\n",
       "      <td>Bottom 90%</td>\n",
       "      <td>-0.323</td>\n",
       "    </tr>\n",
       "    <tr>\n",
       "      <th>1</th>\n",
       "      <td>Next 9%</td>\n",
       "      <td>-0.762</td>\n",
       "    </tr>\n",
       "    <tr>\n",
       "      <th>2</th>\n",
       "      <td>Top 1%</td>\n",
       "      <td>-0.936</td>\n",
       "    </tr>\n",
       "  </tbody>\n",
       "</table>\n",
       "</div>"
      ],
      "text/plain": [
       "   percentile  savrate\n",
       "0  Bottom 90%   -0.323\n",
       "1     Next 9%   -0.762\n",
       "2      Top 1%   -0.936"
      ]
     },
     "execution_count": 528,
     "metadata": {},
     "output_type": "execute_result"
    }
   ],
   "source": [
    "# year1 = 1983\n",
    "# year2 = 1989\n",
    "\n",
    "year1 = 2007\n",
    "year2 = 2009\n",
    "\n",
    "df = load_data(f'scf_{year1}t{year2}_panel.csv')\n",
    "# df = df.merge(hhcomp, on='case_id', how='inner')\n",
    "\n",
    "denominator = f'rincav'\n",
    "df['savrate'] = df[f'saving{year2}']/df[denominator]\n",
    "# df['savrate'] = (df[f'networth{year2}']-df[f'networth{year1}'])/df[denominator]\n",
    "df.loc[df[denominator]==0, 'savrate'] = np.nan\n",
    "\n",
    "# Remove outliers\n",
    "p99 = df['savrate'].quantile(0.99)\n",
    "p01 = df['savrate'].quantile(0.01)\n",
    "df = df[(df.savrate>=p01)&(df.savrate<=p99)]\n",
    "\n",
    "percentile_col = 'percentile_rincav'\n",
    "\n",
    "# df.loc[df[percentile_col]<50, 'percentile'] = 'Bottom 50%'\n",
    "# df.loc[(df[percentile_col]>=50)&(df[percentile_col]<90), 'percentile'] = 'Next 40%'\n",
    "# df.loc[df[percentile_col]>=90, 'percentile'] = 'Top 10%'\n",
    "\n",
    "df.loc[df[percentile_col]<90, 'percentile'] = 'Bottom 90%'\n",
    "df.loc[(df[percentile_col]>=90)&(df[percentile_col]<99), 'percentile'] = 'Next 9%'\n",
    "df.loc[df[percentile_col]==99, 'percentile'] = 'Top 1%'\n",
    "\n",
    "df = df.groupby('percentile')[['savrate']].mean().reset_index()\n",
    "df"
   ]
  },
  {
   "cell_type": "markdown",
   "id": "98dc8970",
   "metadata": {},
   "source": [
    "# Readjust Saving Estimate Based on Mobility"
   ]
  },
  {
   "cell_type": "code",
   "execution_count": 438,
   "id": "e701c111",
   "metadata": {},
   "outputs": [
    {
     "data": {
      "image/png": "[encoded data removed]",
      "text/plain": [
       "<Figure size 1000x800 with 2 Axes>"
      ]
     },
     "metadata": {},
     "output_type": "display_data"
    },
    {
     "data": {
      "image/png": "[encoded data removed]",
      "text/plain": [
       "<Figure size 1000x800 with 2 Axes>"
      ]
     },
     "metadata": {},
     "output_type": "display_data"
    }
   ],
   "source": [
    "for year1, year2 in zip([1983,2007],[1989,2009]):\n",
    "\n",
    "    df = load_data(f'scf_{year1}t{year2}_panel.csv')\n",
    "    \n",
    "    quantiles = [0.9,0.99,1]\n",
    "    quantile_labels = ['Bottom 90%', 'Next 9%', 'Top 1%']\n",
    "    transition_matrix = get_transition_matrix(df, quantiles, quantile_labels, col1=f'networth{year1}', col2=f'networth{year2}')\n",
    "\n",
    "    # Annualize \n",
    "    Lambda = annualize_transitions(transition_matrix, years=year2-year1)\n",
    "    Lambda = pd.DataFrame(Lambda, index=quantile_labels, columns=quantile_labels)\n",
    "\n",
    "    # Plot heat map\n",
    "    plt.figure(figsize=(10, 8))\n",
    "    sns.heatmap(Lambda, annot=True, fmt=\".2f\", cmap=\"YlGnBu\", linewidths=0)\n",
    "    plt.title(f\"Transition Probabilities from {year1} to {year2}\")\n",
    "    plt.xlabel(f\"Wealth Percentile in {year2}\")\n",
    "    plt.ylabel(f\"Wealth Percentile in {year1}\")\n",
    "    plt.show()"
   ]
  },
  {
   "cell_type": "code",
   "execution_count": 190,
   "id": "88a2ce2e",
   "metadata": {},
   "outputs": [
    {
     "data": {
      "text/plain": [
       "array([[ 0.99,  0.01, -0.  ],\n",
       "       [ 0.11,  0.88,  0.01],\n",
       "       [ 0.  ,  0.08,  0.91]])"
      ]
     },
     "execution_count": 190,
     "metadata": {},
     "output_type": "execute_result"
    }
   ],
   "source": [
    "# Get annual transition probabilities\n",
    "groups=np.array([25,25,25,15,5,4,1])/100\n",
    "values=np.array([[67.2,24.5, 6.4, 1.8, 0.1, 0.0, 0.0],\n",
    "                 [24.6,49.9,19.2, 3.7, 1.9, 0.7, 0.0],\n",
    "                 [ 6.7,18.6,46.8,22.5, 3.9, 1.6, 0.0],\n",
    "                 [ 1.4, 8.0,33.6,41.1,11.4, 4.3, 0.2],\n",
    "                 [ 2.6, 9.4,21.6,27.3,22.8,16.0, 0.3],\n",
    "                 [ 0.0, 3.8,18.5, 9.5,16.4,42.5, 9.3],\n",
    "                 [ 0.0, 3.0, 2.4, 6.1, 4.5,25.1,58.9]])/100\n",
    "\n",
    "new_groups=[0]*4 + [1]*2 + [2]\n",
    "new_shares=np.array([90,9,1])/100\n",
    "transition_matrix=np.zeros((3,3))\n",
    "\n",
    "\n",
    "for i, share1983 in enumerate(groups):\n",
    "    for j,share1989 in enumerate(groups):\n",
    "        transition_matrix[new_groups[i],new_groups[j]] += share1983 * values[i,j]\n",
    "        \n",
    "transition_matrix=transition_matrix/np.sum(transition_matrix, axis=1)[:, None]\n",
    "\n",
    "Lambda = annualize_transitions(transition_matrix, years=6)\n",
    "Lambda = pd.DataFrame(Lambda, index=[90,9,1], columns=[90,9,1]).reset_index(names='Percentile 1983')\n",
    "Lambda = Lambda.melt(id_vars='Percentile 1983', var_name='Percentile 1989', value_name='Transition Prob')"
   ]
  },
  {
   "cell_type": "code",
   "execution_count": 198,
   "id": "63d53a4a",
   "metadata": {},
   "outputs": [],
   "source": [
    "# Adjust saving\n",
    "df = load_data('fof_savings_by_asset.csv')\n",
    "\n",
    "df['L_Amount'] = df['L_Amount'] * (1 + df['Asset Inflation Rate'])\n",
    "df = df.groupby(['Year','Percentile','NationalInc'])[['Amount','L_Amount']].sum().reset_index()\n",
    "\n",
    "df = df.merge(Lambda, left_on='Percentile', right_on='Percentile 1989')\n",
    "\n",
    "df['AmountExit'] = df['Amount'] * df['Transition Prob'] * df['Percentile 1983']/df['Percentile 1989']\n",
    "df['L_AmountExit'] = df['L_Amount']\n",
    "df.loc[df['Percentile 1983']!=df['Percentile 1989'], 'L_AmountExit'] = 0\n",
    "\n",
    "df = df.groupby(['Year', 'Percentile 1983', 'NationalInc'])[['AmountExit', 'L_AmountExit']].sum().reset_index()\n",
    "df['SavExit'] = df['AmountExit'] - df['L_AmountExit']\n",
    "df['SavExit2NI'] = df['SavExit']/df['NationalInc']\n",
    "df = df.rename(columns={'Percentile 1983':'Percentile'})\n",
    "\n",
    "exit = df[['Percentile','Year','SavExit2NI']].copy()"
   ]
  },
  {
   "cell_type": "code",
   "execution_count": 199,
   "id": "656b5603",
   "metadata": {},
   "outputs": [],
   "source": [
    "# Adjust saving\n",
    "df = load_data('fof_savings_by_asset.csv')\n",
    "\n",
    "df['L_Amount'] = df['L_Amount'] * (1 + df['Asset Inflation Rate'])\n",
    "df = df.groupby(['Year','Percentile','NationalInc'])[['Amount','L_Amount']].sum().reset_index()\n",
    "\n",
    "df = df.merge(Lambda, left_on='Percentile', right_on='Percentile 1983')\n",
    "\n",
    "df['AmountEnter'] = df['Amount']\n",
    "df.loc[df['Percentile 1983']!=df['Percentile 1989'], 'AmountEnter'] = 0\n",
    "df['L_AmountEnter'] = df['L_Amount'] * df['Transition Prob']\n",
    "\n",
    "df = df.groupby(['Year', 'Percentile 1989', 'NationalInc'])[['AmountEnter', 'L_AmountEnter']].sum().reset_index()\n",
    "df['SavEnter'] = df['AmountEnter'] - df['L_AmountEnter']\n",
    "df['SavEnter2NI'] = df['SavEnter']/df['NationalInc']\n",
    "df = df.rename(columns={'Percentile 1989':'Percentile'})\n",
    "\n",
    "enter = df[['Percentile','Year','SavEnter2NI']].copy()"
   ]
  },
  {
   "cell_type": "code",
   "execution_count": 200,
   "id": "97e050e4",
   "metadata": {},
   "outputs": [],
   "source": [
    "unadj = load_data('fof_savings.csv')\n",
    "df = exit.merge(enter, on=['Year', 'Percentile'])\n",
    "df = df.merge(unadj, on=['Year', 'Percentile'])\n",
    "save_data(df, 'adjusted_savings.csv')"
   ]
  },
  {
   "cell_type": "code",
   "execution_count": null,
   "id": "6c317950",
   "metadata": {},
   "outputs": [],
   "source": []
  },
  {
   "cell_type": "code",
   "execution_count": null,
   "id": "7c17de52",
   "metadata": {},
   "outputs": [],
   "source": []
  },
  {
   "cell_type": "markdown",
   "id": "5c399ceb",
   "metadata": {},
   "source": [
    "# Repeat Using Smoothed Probability Function"
   ]
  },
  {
   "cell_type": "code",
   "execution_count": 287,
   "id": "0690e0f1",
   "metadata": {},
   "outputs": [],
   "source": [
    "from scipy.optimize import minimize, least_squares\n",
    "import scipy.stats as stats"
   ]
  },
  {
   "cell_type": "code",
   "execution_count": 312,
   "id": "2d01a300",
   "metadata": {},
   "outputs": [],
   "source": [
    "# Create smooth probability function\n",
    "df = load_data('scf_83t89_panel.csv')\n",
    "quantiles = np.linspace(1,100,100)/100\n",
    "quantile_labels = np.arange(100)\n",
    "transition_matrix = get_transition_matrix(df, quantiles, quantile_labels)"
   ]
  },
  {
   "cell_type": "code",
   "execution_count": 313,
   "id": "3fed48fe",
   "metadata": {},
   "outputs": [
    {
     "data": {
      "text/plain": [
       "array([[8.4655e+01, 4.3040e+00, 4.1000e-02],\n",
       "       [4.3560e+00, 4.2780e+00, 3.6600e-01],\n",
       "       [2.5000e-02, 3.8800e-01, 5.8700e-01]])"
      ]
     },
     "execution_count": 313,
     "metadata": {},
     "output_type": "execute_result"
    }
   ],
   "source": [
    "# Create a new 3x3 matrix\n",
    "transition_matrix = transition_matrix.to_numpy()\n",
    "new_matrix = np.zeros((3, 3))\n",
    "\n",
    "# Sum the appropriate sections\n",
    "new_matrix[0, 0] = np.sum(transition_matrix[:90, :90])\n",
    "new_matrix[0, 1] = np.sum(transition_matrix[:90, 90:99])\n",
    "new_matrix[0, 2] = np.sum(transition_matrix[:90, 99])\n",
    "new_matrix[1, 0] = np.sum(transition_matrix[90:99, :90])\n",
    "new_matrix[1, 1] = np.sum(transition_matrix[90:99, 90:99])\n",
    "new_matrix[1, 2] = np.sum(transition_matrix[90:99, 99])\n",
    "new_matrix[2, 0] = np.sum(transition_matrix[99, :90])\n",
    "new_matrix[2, 1] = np.sum(transition_matrix[99, 90:99])\n",
    "new_matrix[2, 2] = np.sum(transition_matrix[99, 99])\n",
    "\n",
    "# new_matrix=new_matrix/np.sum(new_matrix, axis=1)[:, None]\n",
    "\n",
    "# Print the new 3x3 matrix\n",
    "np.round(new_matrix, 3)"
   ]
  },
  {
   "cell_type": "code",
   "execution_count": null,
   "id": "7c43b5f0",
   "metadata": {},
   "outputs": [],
   "source": [
    "84."
   ]
  },
  {
   "cell_type": "code",
   "execution_count": 281,
   "id": "f80649c0",
   "metadata": {},
   "outputs": [],
   "source": [
    "# Calculate variance\n",
    "var = np.sum((df['percentile1983']-df['percentile1989'])**2)/(len(df)-1)"
   ]
  },
  {
   "cell_type": "code",
   "execution_count": 266,
   "id": "9b33f2b7",
   "metadata": {},
   "outputs": [],
   "source": [
    "df.loc[df.percentile1983==0, 'percentile1983'] = 1\n",
    "df.loc[df.percentile1989==0, 'percentile1989'] = 1"
   ]
  },
  {
   "cell_type": "code",
   "execution_count": 267,
   "id": "370a9d4f",
   "metadata": {},
   "outputs": [],
   "source": [
    "Lambda = transition_matrix.to_numpy()\n",
    "Lambda = pd.DataFrame(Lambda, index=quantile_labels, columns=quantile_labels).reset_index(names='Percentile 1983')\n",
    "Lambda = Lambda.melt(id_vars='Percentile 1983', var_name='Percentile 1989', value_name='Transition Prob')"
   ]
  },
  {
   "cell_type": "code",
   "execution_count": null,
   "id": "bae9c42a",
   "metadata": {},
   "outputs": [],
   "source": [
    "def objective(params, tot):\n",
    "    scale, sigma = params\n",
    "    \n",
    "    for p1 in range(100):\n",
    "        for p2 in range(100):\n",
    "            prob = stats.norm.pdf(p2, loc=x1, scale=sigma)"
   ]
  },
  {
   "cell_type": "markdown",
   "id": "d378f03d",
   "metadata": {},
   "source": [
    "# Estimate Change in Saving Based on 83/89 - 07/09 Panels"
   ]
  },
  {
   "cell_type": "code",
   "execution_count": null,
   "id": "39bfccf5",
   "metadata": {},
   "outputs": [],
   "source": [
    "# Need to go asset by asset and incorporate inflation"
   ]
  },
  {
   "cell_type": "code",
   "execution_count": null,
   "id": "399f00d4",
   "metadata": {},
   "outputs": [],
   "source": []
  },
  {
   "cell_type": "code",
   "execution_count": 467,
   "id": "39a52d3f",
   "metadata": {},
   "outputs": [
    {
     "name": "stdout",
     "output_type": "stream",
     "text": [
      "4.880948104958643\n"
     ]
    }
   ],
   "source": [
    "M = np.random.rand(3,3)\n",
    "print(M.sum())"
   ]
  },
  {
   "cell_type": "code",
   "execution_count": 471,
   "id": "adead0e6",
   "metadata": {},
   "outputs": [],
   "source": [
    "X = M.copy()"
   ]
  },
  {
   "cell_type": "code",
   "execution_count": 472,
   "id": "a7291ad0",
   "metadata": {},
   "outputs": [],
   "source": [
    "for i in range(M.shape[0]):\n",
    "    for j in range(M.shape[1]):\n",
    "        for ip in range(-1,2):\n",
    "            for jp in range(-1,2):\n",
    "                if i+ip>=0 and i+ip<M.shape[0] and j+jp>=0 and j+jp<M.shape[1]:\n",
    "                     X[i,j] = (X[i,j]+M[i+ip, j+jp])/2"
   ]
  },
  {
   "cell_type": "code",
   "execution_count": 473,
   "id": "f358b930",
   "metadata": {},
   "outputs": [
    {
     "data": {
      "text/plain": [
       "array([[0.29320362, 0.11239666, 0.84519133],\n",
       "       [0.92901658, 0.8225106 , 0.21287608],\n",
       "       [0.72978389, 0.17068326, 0.76528609]])"
      ]
     },
     "execution_count": 473,
     "metadata": {},
     "output_type": "execute_result"
    }
   ],
   "source": [
    "M"
   ]
  },
  {
   "cell_type": "code",
   "execution_count": 474,
   "id": "59c2336f",
   "metadata": {},
   "outputs": [
    {
     "data": {
      "text/plain": [
       "array([[0.69420948, 0.49086712, 0.47756386],\n",
       "       [0.45127455, 0.57928218, 0.5348249 ],\n",
       "       [0.47427646, 0.57272787, 0.55116066]])"
      ]
     },
     "execution_count": 474,
     "metadata": {},
     "output_type": "execute_result"
    }
   ],
   "source": [
    "X"
   ]
  },
  {
   "cell_type": "code",
   "execution_count": null,
   "id": "c9501ee8",
   "metadata": {},
   "outputs": [],
   "source": []
  }
 ],
 "metadata": {
  "kernelspec": {
   "display_name": "Python 3 (ipykernel)",
   "language": "python",
   "name": "python3"
  },
  "language_info": {
   "codemirror_mode": {
    "name": "ipython",
    "version": 3
   },
   "file_extension": ".py",
   "mimetype": "text/x-python",
   "name": "python",
   "nbconvert_exporter": "python",
   "pygments_lexer": "ipython3",
   "version": "3.10.10"
  }
 },
 "nbformat": 4,
 "nbformat_minor": 5
}
